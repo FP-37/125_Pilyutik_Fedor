{
 "cells": [
  {
   "cell_type": "code",
   "execution_count": 3,
   "outputs": [
    {
     "name": "stdout",
     "output_type": "stream",
     "text": [
      "Amount of strings: \n",
      " 200\n",
      "The beginning of DS:  \n",
      "    CustomerID  Age  Annual Income (k$)  Spending Score (1-100)\n",
      "0           1   19                  15                      39\n",
      "1           2   21                  15                      81\n",
      "2           3   20                  16                       6\n",
      "3           4   23                  16                      77\n",
      "4           5   31                  17                      40\n",
      "The ending of DS:  \n",
      "      CustomerID  Age  Annual Income (k$)  Spending Score (1-100)\n",
      "195         196   35                 120                      79\n",
      "196         197   45                 126                      28\n",
      "197         198   32                 126                      74\n",
      "198         199   32                 137                      18\n",
      "199         200   30                 137                      83\n",
      "Types of columns:  \n",
      " CustomerID                int64\n",
      "Age                       int64\n",
      "Annual Income (k$)        int64\n",
      "Spending Score (1-100)    int64\n",
      "dtype: object\n",
      "Columns:  \n",
      " Index(['CustomerID', 'Age', 'Annual Income (k$)', 'Spending Score (1-100)'], dtype='object')\n",
      "\n",
      "Среднее арифметическое по колонкам: \n",
      "\n",
      "CustomerID                100.50\n",
      "Age                        38.85\n",
      "Annual Income (k$)         60.56\n",
      "Spending Score (1-100)     50.20\n",
      "dtype: float64\n",
      "Минимальное значение по колонкам: \n",
      "\n",
      "CustomerID                 1\n",
      "Age                       18\n",
      "Annual Income (k$)        15\n",
      "Spending Score (1-100)     1\n",
      "dtype: int64\n",
      "Максимальное значение по колонкам: \n",
      "\n",
      "CustomerID                200\n",
      "Age                        70\n",
      "Annual Income (k$)        137\n",
      "Spending Score (1-100)     99\n",
      "dtype: int64\n"
     ]
    }
   ],
   "source": [
    "\"\"\"\n",
    "Лабораторная работа 1.\n",
    "Выбрать интересующий Вас ДатаСет(например здесь https://www.kaggle.com/).\n",
    "Создать ноутбук и загрузить туда Ваш дата сет и вывести основную информацию о нем: колличество строк, начала дата сета,\n",
    "конец, типы колонок, список колонок, среднее-арифметическое по колонкам, мин, макс)\n",
    "\"\"\"\n",
    "\n",
    "import pandas as pandochka\n",
    "\n",
    "# Загружаем датасет\n",
    "data = pandochka.read_csv(\"mall_customers.csv\")\n",
    "# Основная информация о датасете\n",
    "print(\"Amount of strings: \\n\", len(data))\n",
    "print(\"The beginning of DS:  \\n\",data.head())\n",
    "print(\"The ending of DS:  \\n\",data.tail())\n",
    "print(\"Types of columns:  \\n\", data.dtypes)\n",
    "print(\"Columns:  \\n\", data.columns)\n",
    "\n",
    "print(\"\\nСреднее арифметическое по колонкам: \\n\")\n",
    "print(data.mean())\n",
    "print(\"Минимальное значение по колонкам: \\n\")\n",
    "print(data.min())\n",
    "print(\"Максимальное значение по колонкам: \\n\")\n",
    "print(data.max())"
   ],
   "metadata": {
    "collapsed": false,
    "pycharm": {
     "name": "#%%\n"
    }
   }
  }
 ],
 "metadata": {
  "kernelspec": {
   "display_name": "Python 3",
   "language": "python",
   "name": "python3"
  },
  "language_info": {
   "codemirror_mode": {
    "name": "ipython",
    "version": 2
   },
   "file_extension": ".py",
   "mimetype": "text/x-python",
   "name": "python",
   "nbconvert_exporter": "python",
   "pygments_lexer": "ipython2",
   "version": "2.7.6"
  }
 },
 "nbformat": 4,
 "nbformat_minor": 0
}